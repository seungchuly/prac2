{
 "cells": [
  {
   "cell_type": "markdown",
   "id": "9db8ffc2",
   "metadata": {},
   "source": [
    "#RDF"
   ]
  },
  {
   "cell_type": "markdown",
   "id": "4089d928",
   "metadata": {},
   "source": [
    "쿼리 = 데이터베이스에서 원하는 데이터 검색을 위한 명령어or구문</br>\n",
    "SQL = 언어종류, SQL 언어를 사용하여 쿼리를 작성하고 처리 (검색,추가,수정,삭제)</br></br>\n",
    "RDF = 인터넷 상의 리소스를 표현하기 위한 데이터 모델</br>\n",
    "    개체와 개체간의 관계를 표현하는 그래프 형태로 데이터를 표현합니다.</br>\n",
    "    만약 RDF데이터가 XML형식으로 표현되면 RDF.XML이라고 부릅니다.</br></br>\n",
    "    분산된 데이터를 효과적으로 관리하고 검색하기 위한 목적으로 개발되었고, \n",
    "    웹상의 다양한 리소스에 대한 정보를 구조적으로 표현할 수 있습니다.\n",
    "    \n",
    "    \n",
    "SQL -> 데이터베이스에서 데이터 추출 -> 파이썬으로 RDF그래프생성 -> 지식그래프모델 표현"
   ]
  },
  {
   "cell_type": "markdown",
   "id": "0c517836",
   "metadata": {},
   "source": [
    "지식그래프 모델은 크게 두 가지 종류가 있습니다. 하나는 사실(Ontology) 기반 모델이고, 다른 하나는 사실 기반 모델입니다.\n",
    "\n",
    "1. 사실(Ontology) 기반 모델</br>\n",
    "사실(Ontology) 기반 모델은 개체(Entity)와 관계(Relationship)를 정의하기 위해 도메인 전문가가 사전에 정의한 Ontology를 사용하는 방식입니다. 이러한 Ontology는 개체들의 분류(Classification)와 각 개체들 간의 계층구조(Hierarchy)를 정의하고, 각 개체와 관계에 대한 속성(Attribute)과 제약조건(Constraint)을 포함합니다. 사실 기반 모델에 비해 추론(Inference)이 용이하며, 일관된 표현을 보장할 수 있습니다. 대표적인 예로는 구글의 Knowledge Graph와 위키피디아(Wikipedia) 등이 있습니다.\n",
    "\n",
    "2. 사실(Fact) 기반 모델</br>\n",
    "사실(Fact) 기반 모델은 개체(Entity)와 관계(Relationship)를 직접 정의하며, Ontology를 사용하지 않는 방식입니다. 개체와 관계를 표현하는 데이터가 수집되면, 이를 사실 형태로 표현합니다. 이러한 방식은 새로운 개체와 관계를 표현하는 데 유연하며, 복잡한 온톨로지 구조가 필요하지 않습니다. 대표적인 예로는 DBpedia와 Freebase 등이 있습니다.\n",
    "\n",
    "지식그래프 모델은 주로 RDF(Resource Description Framework)를 사용하여 정보를 표현합니다. 이러한 정보를 SPARQL(Query Language for RDF)과 같은 쿼리 언어를 사용하여 추출하고, 쿼리할 수 있습니다. 또한, 시맨틱 웹(Semantic Web)을 구축하여 지식그래프 모델을 활용할 수도 있습니다. 이를 통해 인공지능, 자연어 처리, 검색, 추천 시스템 등 다양한 분야에서 활용할 수 있습니다."
   ]
  },
  {
   "cell_type": "code",
   "execution_count": 2,
   "id": "f4014247",
   "metadata": {},
   "outputs": [
    {
     "name": "stdout",
     "output_type": "stream",
     "text": [
      "The Lord of the Rings by J. R. R. Tolkien\n"
     ]
    }
   ],
   "source": [
    "from rdflib import Graph, Literal, Namespace, RDF, URIRef\n",
    "\n",
    "# Define the RDF namespace\n",
    "kb = Namespace(\"http://example.com/kb/\")\n",
    "RDF_NAMESPACES = {\n",
    "    'kb': kb\n",
    "}\n",
    "\n",
    "# Create a new in-memory RDF graph\n",
    "graph = Graph()\n",
    "\n",
    "# Bind the namespace prefix to the namespace\n",
    "for prefix, ns in RDF_NAMESPACES.items():\n",
    "    graph.bind(prefix, ns)\n",
    "\n",
    "# Add triples to the graph\n",
    "book1 = URIRef(\"http://example.com/book/1\")\n",
    "graph.add((book1, RDF.type, kb.Book))\n",
    "graph.add((book1, kb.title, Literal(\"The Lord of the Rings\")))\n",
    "graph.add((book1, kb.author, Literal(\"J. R. R. Tolkien\")))\n",
    "\n",
    "book2 = URIRef(\"http://example.com/book/2\")\n",
    "graph.add((book2, RDF.type, kb.Book))\n",
    "graph.add((book2, kb.title, Literal(\"Harry Potter and the Philosopher's Stone\")))\n",
    "graph.add((book2, kb.author, Literal(\"J. K. Rowling\")))\n",
    "\n",
    "book3 = URIRef(\"http://example.com/book/3\")\n",
    "graph.add((book3, RDF.type, kb.Book))\n",
    "graph.add((book3, kb.title, Literal(\"The Hitchhiker's Guide to the Galaxy\")))\n",
    "graph.add((book3, kb.author, Literal(\"Douglas Adams\")))\n",
    "\n",
    "# Serialize the RDF graph to a file\n",
    "graph.serialize(\"books.rdf\", format=\"xml\")\n",
    "\n",
    "# Query the RDF graph for books by a specific author\n",
    "for book, title in graph.query(\n",
    "        \"\"\"\n",
    "        SELECT ?book ?title\n",
    "        WHERE {\n",
    "            ?book a kb:Book .\n",
    "            ?book kb:title ?title .\n",
    "            ?book kb:author ?author .\n",
    "            FILTER (str(?author) = \"J. R. R. Tolkien\")\n",
    "        }\n",
    "        \"\"\"):\n",
    "    print(f\"{title} by J. R. R. Tolkien\")\n"
   ]
  },
  {
   "cell_type": "code",
   "execution_count": null,
   "id": "98204501",
   "metadata": {},
   "outputs": [],
   "source": []
  }
 ],
 "metadata": {
  "kernelspec": {
   "display_name": "Python 3 (ipykernel)",
   "language": "python",
   "name": "python3"
  },
  "language_info": {
   "codemirror_mode": {
    "name": "ipython",
    "version": 3
   },
   "file_extension": ".py",
   "mimetype": "text/x-python",
   "name": "python",
   "nbconvert_exporter": "python",
   "pygments_lexer": "ipython3",
   "version": "3.9.16"
  }
 },
 "nbformat": 4,
 "nbformat_minor": 5
}
